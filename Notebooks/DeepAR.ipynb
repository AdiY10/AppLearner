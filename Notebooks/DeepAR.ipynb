{
  "nbformat": 4,
  "nbformat_minor": 0,
  "metadata": {
    "colab": {
      "provenance": []
    },
    "kernelspec": {
      "name": "python3",
      "display_name": "Python 3"
    },
    "language_info": {
      "name": "python"
    }
  },
  "cells": [
    {
      "cell_type": "code",
      "execution_count": null,
      "metadata": {
        "id": "FlR5X-akE4uP"
      },
      "outputs": [],
      "source": [
        "import sys\n",
        "# caution: path[0] is reserved for script path (or '' in REPL)\n",
        "sys.path.insert(2, 'C:\\\\Users\\\\Owner\\\\AppLearner\\\\src')\n",
        "import framework__deepar as deepAR\n",
        "import framework__test_bench_deepar as bench"
      ]
    },
    {
      "cell_type": "code",
      "source": [
        "test_to_perform = (\n",
        "    # Container CPU\n",
        "    {\"metric\": \"container_cpu\", \"app\": \"kube-rbac-proxy\", \"prediction length\": 16, \"sub sample rate\": 5, \"data length limit\": 30, \"fixed length of samples\": 100},\n",
        "    {\"metric\": \"container_cpu\", \"app\": \"dns\",             \"prediction length\": 16, \"sub sample rate\": 5, \"data length limit\": 30, \"fixed length of samples\": 100}\n",
        "    # {\"metric\": \"container_cpu\", \"app\": \"collector\",       \"prediction length\": 16, \"sub sample rate\": 30, \"data length limit\": 30},\n",
        "    # # Container Memory\n",
        "    # {\"metric\": \"container_mem\", \"app\": \"nmstate-handler\", \"prediction length\": 16, \"sub sample rate\": 30, \"data length limit\": 30},\n",
        "    # {\"metric\": \"container_mem\", \"app\": \"coredns\",         \"prediction length\": 16, \"sub sample rate\": 30, \"data length limit\": 30},\n",
        "    # {\"metric\": \"container_mem\", \"app\": \"keepalived\",      \"prediction length\": 16, \"sub sample rate\": 30, \"data length limit\": 30},\n",
        "    # # Node Memory\n",
        "    # {\"metric\": \"node_mem\",      \"app\": \"moc/smaug\",       \"prediction length\": 16, \"sub sample rate\": 30, \"data length limit\": 30},\n",
        "    # {\"metric\": \"node_mem\",      \"app\": \"emea/balrog\",     \"prediction length\": 16, \"sub sample rate\": 30, \"data length limit\": 30}\n",
        ")"
      ],
      "metadata": {
        "id": "HIUH57NBE6Q1"
      },
      "execution_count": null,
      "outputs": []
    },
    {
      "cell_type": "code",
      "source": [
        "tb = bench.TestBenchDeepAR(\n",
        "    class_to_test=deepAR.DeepARTester,\n",
        "    path_to_data=\"C:\\\\Users\\\\Owner\\\\AppLearner\\\\data\\\\OperatreFirst_PrometheusData_AppLearner\\\\\",\n",
        "    tests_to_perform=test_to_perform\n",
        ")\n",
        "tb.run_training_and_tests()"
      ],
      "metadata": {
        "id": "8JZX5BenE7s7"
      },
      "execution_count": null,
      "outputs": []
    }
  ]
}