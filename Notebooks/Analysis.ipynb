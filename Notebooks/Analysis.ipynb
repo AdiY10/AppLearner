{
 "cells": [
  {
   "cell_type": "code",
   "execution_count": null,
   "outputs": [],
   "source": [
    "import src.framework__data_set as ds\n",
    "import random"
   ],
   "metadata": {
    "collapsed": false,
    "pycharm": {
     "name": "#%%\n"
    }
   }
  },
  {
   "cell_type": "code",
   "execution_count": null,
   "outputs": [],
   "source": [
    "random.seed(10)\n",
    "dataset = ds.get_data_set(\n",
    "    metric=\"container_mem\",\n",
    "    application_name=\"bridge-marker\",\n",
    "    path_to_data=\"./data/\"\n",
    ")\n",
    "dataset.plot_dataset(number_of_samples=2)\n"
   ],
   "metadata": {
    "collapsed": false,
    "pycharm": {
     "name": "#%%\n"
    }
   }
  },
  {
   "cell_type": "code",
   "execution_count": null,
   "outputs": [],
   "source": [
    "random.seed(10)\n",
    "dataset = ds.get_data_set(\n",
    "    metric=\"container_mem\",\n",
    "    application_name=\"bridge-marker\",\n",
    "    path_to_data=\"./data/\"\n",
    ")\n",
    "dataset.plot_dataset(number_of_samples=3)\n"
   ],
   "metadata": {
    "collapsed": false,
    "pycharm": {
     "name": "#%%\n"
    }
   }
  },
  {
   "cell_type": "code",
   "execution_count": 15,
   "outputs": [
    {
     "name": "stdout",
     "output_type": "stream",
     "text": [
      "[('kube-rbac-proxy', 7718487), ('cni-plugins', 3142572), ('driver-registrar', 2820695), ('oauth-proxy', 1942223), ('collector', 1701727), ('nmstate-handler', 1587755), ('keepalived', 1587373), ('node-exporter', 1586814), ('coredns', 1586715), ('whereabouts-cni-bincopy', 1586041), ('bridge-marker', 1583131), ('whereabouts-cni', 1580344), ('egress-router-binary-copy', 1578966), ('kube-multus-additional-cni-plugins', 1577492), ('coredns-monitor', 1576538), ('network-check-target-container', 1572234), ('init-textfile', 1571342), ('render-config-keepalived', 1570483), ('render-config-coredns', 1569003), ('keepalived-monitor', 1566843), ('sdn', 1566724), ('routeoverride-cni', 1566341), ('dns-node-resolver', 1565747), ('kube-multus', 1565434), ('network-metrics-daemon', 1563598), ('machine-config-daemon', 1563011), ('tuned', 1559595), ('dns', 1558194), ('node-ca', 1556489), ('logfilesmetricexporter', 1553834), ('csi-rbdplugin', 1511062), ('nfd-worker', 1485085), ('node-interface-labeler', 1481744), ('virt-handler', 1467969), ('csi-driver', 1466913), ('virt-launcher', 1415969), ('cleanup', 1415954), ('serve-healthcheck-canary', 1414201), ('noobaa-agent', 1381105), ('manager', 932622), ('exporter', 437393), ('memcached', 434962), ('postgresql', 411246), ('zookeeper', 384557), ('webhook', 355604), ('kafka', 335279), ('notebook', 330074), ('thanos-receive', 325863), ('fix-audit-permissions', 324563), ('registry-server', 324180), ('trino-worker', 323664), ('setup', 320283), ('thanos-query', 288261), ('prom-label-proxy', 277750), ('configmap-puller', 276399), ('seldon-container-engine', 268307), ('wait-for-database', 265305), ('config-reloader', 265004), ('exposer', 262738), ('traefik-proxy', 261363), ('init-touch-rules', 260523), ('jupyterhub', 245745), ('jupyterhub-ha-sidecar', 244927), ('vector', 218996), ('metal3-httpd', 218736), ('metal3-ipa-downloader', 218364), ('grafana', 214072), ('argo-server', 213586), ('metal3-machine-os-downloader', 212990), ('metastore', 176293), ('kube-controller-manager-recovery-controller', 169125), ('registration-controller', 168359), ('guard', 167699), ('etcd-metrics', 167669), ('nfd-master', 167325), ('vertical-pod-autoscaler', 167028), ('cert-manager', 166691), ('kube-controller-manager-cert-syncer', 166583), ('kube-scheduler', 166446), ('machine-config-server', 165965), ('haproxy', 165709), ('kube-apiserver', 165643), ('haproxy-monitor', 165626), ('openshift-apiserver-check-endpoints', 165133), ('kube-apiserver-check-endpoints', 165036), ('klusterlet-manifestwork-agent', 164719), ('openshift-apiserver', 164673), ('kube-scheduler-cert-syncer', 164211), ('etcd-resources-copy', 164111), ('verify-api-int-resolvable', 163892), ('oauth-openshift', 163822), ('kube-controller-manager', 163423), ('kube-scheduler-recovery-controller', 163292), ('etcd-health-monitor', 162836), ('etcdctl', 162745), ('oauth-apiserver', 162681), ('cluster-policy-controller', 162620), ('alertmanager-proxy', 162596), ('etcd-ensure-env-vars', 162590), ('sdn-controller', 162282), ('wait-for-host-port', 161953), ('controller-manager', 161915), ('kube-apiserver-insecure-readyz', 161570), ('kube-apiserver-cert-syncer', 160884), ('vault', 160606), ('kube-apiserver-cert-regeneration-controller', 160396), ('multus-admission-controller', 160063), ('etcd', 159322), ('grafana-plugins-init', 155375), ('alertmanager', 151557), ('workflow-controller', 145647), ('hook', 118327), ('registry', 118065), ('observatorium-loki-ingester', 117971), ('worker', 117686), ('console', 117174), ('topic-operator', 117077), ('thanos-store', 115881), ('csi-provisioner', 113806), ('snapshot-controller', 111999), ('thanos-ruler', 111742), ('container', 111668), ('observatorium-loki-query-frontend', 111583), ('packageserver', 111414), ('apicurio-registry', 111373), ('csi-attacher', 111262), ('trino-coordinator', 111166), ('virt-operator', 111067), ('router', 110885), ('content', 110233), ('tls-sidecar', 110171), ('kube-rbac-proxy-main', 110066), ('cloudbeaver', 109981), ('virt-api', 109876), ('csi-resizer', 109826), ('nmstate-webhook', 109688), ('user-operator', 109524), ('classifier', 109495), ('deck', 109353), ('observatorium-loki-querier', 109295), ('download-server', 108898), ('pushgateway', 108272), ('thanos-ruler-proxy', 108233), ('github-receiver', 108083), ('observatorium-loki-distributor', 108002), ('kube-rbac-proxy-self', 107915), ('csi-snapshotter', 107099), ('kube-rbac-proxy-rules', 106584), ('virt-controller', 105543), ('triage-party', 105460), ('httpd', 95697), ('jaeger', 84337), ('postgres', 63253), ('olm-operator', 62055), ('endpoint', 61427), ('external-resizer', 59912), ('external-provisioner', 59878), ('thanos-query-frontend', 59175), ('ironic-inspector-ramdisk-logs', 58740), ('subscription-controller', 58667), ('thanos-compact', 58657), ('cluster-samples-operator', 58610), ('init', 58577), ('camel-k-operator', 58264), ('cert-policy-controller', 58149), ('cdi-controller', 58136), ('prow-controller-manager', 57934), ('klusterlet', 57629), ('web', 57514), ('kubesecrets-plugin', 57443), ('horologium', 57333), ('k8s-annotations-exporter', 57286), ('machine-approver-controller', 57246), ('curator-reports', 57223), ('cdi-operator', 57168), ('tekton-pipelines-controller', 57137), ('ghproxy', 57084), ('etcd-operator', 57060), ('kube-apiserver-operator', 57051), ('spec-sync', 56987), ('initialize-database', 56939), ('openshift-pipelines-operator', 56910), ('openshift-acme', 56896), ('osp-clf', 56885), ('sin-mem-under-uti-container', 56855), ('vm-import-controller', 56843), ('kube-controller-manager-operator', 56822), ('db', 56712), ('ingress', 56702), ('cluster-image-registry-operator', 56688), ('kube-scheduler-operator-container', 56688), ('minio', 56658), ('arrow-flight-module-chart', 56644), ('cluster-monitoring-operator', 56597), ('status-sync', 56578), ('selen-cpu-const-load-test', 56493), ('jupyterhub-idle-culler', 56451), ('authentication-operator', 56427), ('ray-operator', 56401), ('sinker', 56393), ('acm-agent', 56389), ('observatorium-loki-compactor', 56320), ('crier', 56296), ('apicurio-registry-postgresql', 56247), ('kube-rbac-proxy-machine-mtrc', 56197), ('ocs-operator', 56196), ('investigator-consumer', 56174), ('config-policy-controller', 56174), ('opa-connector', 56129), ('tekton-triggers-controller', 56084), ('opa', 56069), ('redis', 56057), ('classifier-model-initializer', 56040), ('hyperconverged-cluster-operator', 56036), ('ingress-operator', 56025), ('openshift-controller-manager-operator', 56018), ('setup-config', 55993), ('network-operator', 55979), ('metal3-baremetal-operator', 55978), ('metal3-ironic-conductor', 55978), ('cluster-cloud-controller-manager', 55959), ('iam-policy-controller', 55955), ('needs-rebase', 55909), ('message-metrics', 55822), ('tide', 55819), ('limitador', 55816), ('mysql', 55813), ('ssh-access', 55812), ('tenant-manager', 55800), ('package-server-manager', 55798), ('compute', 55719), ('template-sync', 55669), ('github-labeler', 55586), ('strimzi-cluster-operator', 55517), ('meteor-shower', 55501), ('metal3-ironic-api', 55465), ('odh-dashboard', 55447), ('catalog-operator', 55428), ('machine-api-operator', 55428), ('hyperconverged-cluster-webhook', 55412), ('main', 55402), ('tekton-triggers-core-interceptors', 55357), ('final-presentation-rc-container', 55347), ('cluster-network-addons-operator', 55318), ('postgresql-metrics-exporter', 55286), ('demo-clf', 55263), ('insights-puptoo', 55263), ('dex', 55246), ('service-ca-operator', 55233), ('kube-state-metrics', 55195), ('console-operator', 55117), ('machine-healthcheck-controller', 55117), ('machine-controller', 55058), ('pulp-manager', 55054), ('kube-rbac-proxy-machineset-mtrc', 55044), ('vertical-pod-autoscaler-operator', 54986), ('metal3-mariadb', 54925), ('tekton-operator-webhook', 54919), ('marketplace-operator', 54865), ('machineset-controller', 54861), ('statusreconciler', 54830), ('openshift-apiserver-operator', 54715), ('check-endpoints', 54684), ('machine-config-operator', 54671), ('rook-ceph-tools', 54589), ('blackbox-exporter', 54501), ('nodelink-controller', 54444), ('api', 54325), ('sparkoperator', 54314), ('cdi-uploadproxy', 54311), ('rook-ceph-operator', 54291), ('grafana-proxy', 54264), ('reload', 54240), ('tekton-chains-controller', 54239), ('apicurio-registry-mt-ui', 54178), ('external-snapshotter', 54125), ('cluster-storage-operator', 54089), ('kafka-ui', 54043), ('cluster-samples-operator-watch', 54028), ('amun-api', 53939), ('localstack', 53914), ('metal3-ironic-inspector', 53868), ('ocs-metrics-exporter', 53850), ('proxy', 53833), ('openshift-config-operator', 53760), ('core', 53710), ('server', 53649), ('dns-operator', 53609), ('cdi-apiserver', 53586), ('ml-pipeline-ui', 53545), ('cluster-node-tuning-operator', 53220), ('sefkhet-abwy-webhook-receiver', 53204), ('ml-pipeline-api-server', 53128), ('noobaa-operator', 53114), ('github-pr-ttm-clf', 53092), ('hostpath-provisioner-operator', 52972), ('telemeter-client', 52934), ('tekton-dashboard', 52868), ('katalog-connector', 52795), ('ml-pipeline-viewer-crd', 52780), ('ml-pipeline-persistenceagent', 52758), ('migrator', 52674), ('cpu-under-uti-container', 52620), ('cluster-autoscaler-operator', 52511), ('thanos-receive-controller', 52318), ('openshift-state-metrics', 52287), ('cluster-version-operator', 52272), ('sefkhet-abwy-chatbot', 52159), ('kube-rbac-proxy-mhc-mtrc', 52123), ('service-ca-controller', 52060), ('observatorium-api', 52047), ('config-sync-controllers', 52038), ('csi-snapshot-controller-operator', 52033), ('initpolicy', 51987), ('pgbouncer', 51987), ('ironic-deploy-ramdisk-logs', 51952), ('cluster-logging-operator', 51913), ('shower', 51900), ('ml-pipeline-visualizationserver', 51892), ('tkn-cli-serve', 51862), ('reloader-reloader', 51802), ('klusterlet-addon-operator', 51795), ('cloud-credential-operator', 51631), ('event-listener', 51619), ('superset-init', 51580), ('memory-over-utilization-sindhu-container', 51542), ('insights-operator', 51527), ('ml-pipeline-scheduledworkflow', 51495), ('vm-import-operator', 51440), ('nmstate-cert-manager', 51404), ('slack-first', 51399), ('kube-storage-version-migrator-operator', 51292), ('influxdb', 51247), ('node-maintenance-operator', 51220), ('telegraf', 51181), ('cluster-baremetal-operator', 51138), ('solr', 50799), ('cpu-over-uti-container', 50795), ('kube-mgmt', 50050), ('envoy', 49945), ('smart-village-view', 48885), ('metrics-exporter', 48475), ('management-api-openapi', 48405), ('mosquitto', 48141), ('machine-config-controller', 47847), ('user-api', 47638), ('opendatahub-operator', 47011), ('jaeger-operator', 45484), ('pulp-metrics-exporter', 45355), ('superset', 43469), ('apicurio-bot', 39561), ('meteor-brpkp-jupyterbook', 37866), ('meteor-26nt9-jupyterbook', 37493), ('app', 37337), ('controller', 35093), ('meteor-hbk8z-jupyterbook', 32014), ('pytorch-inference-d9e6bdfc', 31503), ('pytorch-inference-064d6f8e', 30752), ('pytorch-inference-ac39d4a1', 30752), ('ads-ui', 29731), ('api-designer-poc', 28504), ('external-secrets', 28005), ('meteor-9jh2c-jupyterbook', 27985), ('cert-controller', 26456), ('pytorch-inference-64d86edb', 21952), ('studio-editors', 19727), ('apicurio-registry-mem', 18015), ('meteor-v99q2-jupyterbook', 12912), ('peribolos-as-service', 11270), ('nginx', 11136), ('queue', 9933), ('chris-db', 9511), ('chris', 9230), ('scheduler', 8958), ('worker-periodic', 8789), ('ray-node', 8712), ('swift', 5881), ('pytorch-inference-50fefab3', 4536), ('meteor-c6g85-jupyterbook', 4204), ('chris-ui', 3921), ('mosquitto-ephemeral', 3917), ('wait', 3596), ('chris-store', 3554), ('chris-store-db', 3486), ('chris-store-ui', 3376), ('graph-metrics-exporter', 3366), ('pfcon', 2467), ('inspect-hwinfo', 1987), ('branchprotector', 1445), ('meteor-6q7vb-jupyterbook', 1438), ('jupyterbook-8qi3bv', 1253), ('jupyterbook-bhdgfl-r-89m8m', 1242), ('meteor-559nz-jupyterbook', 1164), ('meteor-6hn5n-jupyterbook', 1164), ('jupyterbook-nlmmk5', 1137), ('meteor-fp54s-jupyterbook', 1098), ('meteor-25tkb-jupyterbook', 1096), ('meteor-dngcb-jupyterbook', 1072), ('meteor-jslzb-jupyterbook', 1060), ('meteor-qlsp8-jupyterbook', 994), ('meteor-cl5kz-jupyterbook', 969), ('influxdb2', 846), ('meteor-w7df9-jupyterbook', 761), ('jupyterbook-bhdgfl', 684), ('meteor-wj4q4-jupyterbook', 660), ('influxdb-backup', 158), ('influxdb-backup-dummy-container', 158), ('image-pruner', 96), ('place-scripts', 60), ('place-tools', 60), ('step-generate', 60), ('step-git-init-op', 60), ('step-git-source-repo-lwcjq', 60), ('step-pr-source-pr-s48d2', 60), ('step-pr-updates', 60), ('step-run-build', 60), ('working-dir-initializer', 60)]\n"
     ]
    }
   ],
   "source": [
    "hist = ds.get_amount_of_data_per_application(\n",
    "    metric=\"node_mem\",\n",
    "    path_to_data=\"./data/\"\n",
    ")\n",
    "mi = min(j for i, j in hist)\n",
    "ma = max(j for i, j in hist)\n",
    "# print(len(hist), mi, ma)\n",
    "\n",
    "hist = ds.get_amount_of_data_per_application(\n",
    "    metric=\"container_mem\",\n",
    "    path_to_data=\"./data/\"\n",
    ")\n",
    "\n",
    "mi = min(j for i, j in hist)\n",
    "ma = max(j for i, j in hist)\n",
    "print(hist)\n",
    "#\n",
    "# hist = ds.get_amount_of_data_per_application(\n",
    "#     metric=\"container_cpu\",\n",
    "#     path_to_data=\"./data/\"\n",
    "# )\n",
    "# mi = min(j for i, j in hist)\n",
    "# ma = max(j for i, j in hist)\n",
    "# print(len(hist), mi, ma)"
   ],
   "metadata": {
    "collapsed": false,
    "pycharm": {
     "name": "#%%\n"
    }
   }
  }
 ],
 "metadata": {
  "kernelspec": {
   "display_name": "Python 3",
   "language": "python",
   "name": "python3"
  },
  "language_info": {
   "codemirror_mode": {
    "name": "ipython",
    "version": 2
   },
   "file_extension": ".py",
   "mimetype": "text/x-python",
   "name": "python",
   "nbconvert_exporter": "python",
   "pygments_lexer": "ipython2",
   "version": "2.7.6"
  }
 },
 "nbformat": 4,
 "nbformat_minor": 0
}
