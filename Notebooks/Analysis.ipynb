{
 "cells": [
  {
   "cell_type": "code",
   "execution_count": null,
   "outputs": [],
   "source": [
    "import src.framework__data_set as ds\n",
    "import random"
   ],
   "metadata": {
    "collapsed": false,
    "pycharm": {
     "name": "#%%\n"
    }
   }
  },
  {
   "cell_type": "code",
   "execution_count": null,
   "outputs": [],
   "source": [
    "random.seed(10)\n",
    "dataset = ds.get_data_set(\n",
    "    metric=\"container_mem\",\n",
    "    application_name=\"bridge-marker\",\n",
    "    path_to_data=\"./data/\"\n",
    ")\n",
    "dataset.plot_dataset(number_of_samples=2)\n"
   ],
   "metadata": {
    "collapsed": false,
    "pycharm": {
     "name": "#%%\n"
    }
   }
  },
  {
   "cell_type": "code",
   "execution_count": null,
   "outputs": [],
   "source": [
    "random.seed(10)\n",
    "dataset = ds.get_data_set(\n",
    "    metric=\"container_mem\",\n",
    "    application_name=\"bridge-marker\",\n",
    "    path_to_data=\"./data/\"\n",
    ")\n",
    "dataset.plot_dataset(number_of_samples=3)\n"
   ],
   "metadata": {
    "collapsed": false,
    "pycharm": {
     "name": "#%%\n"
    }
   }
  },
 "nbformat": 4,
 "nbformat_minor": 0
}
